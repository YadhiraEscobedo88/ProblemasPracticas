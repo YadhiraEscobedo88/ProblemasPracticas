#Determinar si un número dado es divisible entre 14.
a=14
if (a%14==0):
    print(" Es par")
else:
    print(" Es Impar")
