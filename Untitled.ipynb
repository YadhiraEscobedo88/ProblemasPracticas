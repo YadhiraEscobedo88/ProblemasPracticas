{
 "cells": [
  {
   "cell_type": "code",
   "execution_count": null,
   "metadata": {},
   "outputs": [],
   "source": [
    "#Convertir pulgadas a yardas, y pies a puiga-das\n",
    "num= int(input('Cantidad de Pulgadas: '))\n",
    "yardas=num*0.02777\n",
    "print(str(yardas))\n",
    "num2=int(input('Cantidad de pies: '))\n",
    "pulgadas=num2*12\n",
    "print(str(pulgadas))"
   ]
  },
  {
   "cell_type": "code",
   "execution_count": null,
   "metadata": {},
   "outputs": [],
   "source": [
    "#Determinar si un número dado es divisible entre 14\n",
    "a=14\n",
    "if (a%14==0):\n",
    "    print(\" Es par\")\n",
    "else:\n",
    "    print(\" Es Impar\")"
   ]
  }
 ],
 "metadata": {
  "kernelspec": {
   "display_name": "Python 3",
   "language": "python",
   "name": "python3"
  },
  "language_info": {
   "codemirror_mode": {
    "name": "ipython",
    "version": 3
   },
   "file_extension": ".py",
   "mimetype": "text/x-python",
   "name": "python",
   "nbconvert_exporter": "python",
   "pygments_lexer": "ipython3",
   "version": "3.6.5"
  }
 },
 "nbformat": 4,
 "nbformat_minor": 2
}
